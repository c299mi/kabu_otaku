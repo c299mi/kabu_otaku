{
 "cells": [
  {
   "cell_type": "code",
   "execution_count": null,
   "id": "041e6c04-a0f7-4144-be02-3b8806767eaa",
   "metadata": {},
   "outputs": [],
   "source": [
    "import pandas as pd\n",
    "import yfinance as yf\n",
    "\n",
    "# growth_tickers.csvファイルのパス\n",
    "tickers_file_path = 'data/growth_tickers.csv'\n",
    "\n",
    "# 銘柄コードの読み込み\n",
    "growth_tickers = pd.read_csv(tickers_file_path)\n",
    "tickers_list = growth_tickers['コード'].apply(lambda x: f\"{x}.T\").tolist()\n",
    "\n",
    "# データ取得期間の設定\n",
    "start_date = \"2024-01-01\"\n",
    "end_date = \"2024-05-31\"\n",
    "\n",
    "# 複数の銘柄のデータを一度に取得\n",
    "all_data = yf.download(tickers_list, start=start_date, end=end_date)\n",
    "\n",
    "# 調整後終値（Adj Close）のみを抽出\n",
    "adj_close_data = all_data['Adj Close']\n",
    "\n",
    "# CSVファイルに保存\n",
    "output_file_path = 'data/growth_adj_close_20240101_20240531.csv'\n",
    "adj_close_data.to_csv(output_file_path)\n",
    "\n",
    "print(f\"調整後終値データを {output_file_path} に保存しました。\")"
   ]
  }
 ],
 "metadata": {
  "kernelspec": {
   "display_name": "Python 3 (ipykernel)",
   "language": "python",
   "name": "python3"
  },
  "language_info": {
   "codemirror_mode": {
    "name": "ipython",
    "version": 3
   },
   "file_extension": ".py",
   "mimetype": "text/x-python",
   "name": "python",
   "nbconvert_exporter": "python",
   "pygments_lexer": "ipython3",
   "version": "3.10.12"
  }
 },
 "nbformat": 4,
 "nbformat_minor": 5
}
